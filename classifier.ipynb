{
 "cells": [
  {
   "cell_type": "code",
   "execution_count": 1,
   "metadata": {},
   "outputs": [],
   "source": [
    "import tensorflow as tf\n",
    "import numpy\n",
    "from numpy import genfromtxt\n",
    "\n",
    "# filename = 'merged_all_labeled.txt'\n",
    "# data_matrix = open(filename, 'rt')\n",
    "# reader = csv.reader(data_matrix, delimiter='\\t', quoting=csv.QUOTE_NONE)\n",
    "# x = list(reader)\n",
    "\n",
    "my_data = genfromtxt('raw.txt', delimiter='\\t',names=True)\n",
    "types = genfromtxt('types.txt',delimiter='\\t',dtype=\"unicode\")\n",
    "\n",
    "#data = csv.reader(\"merged_all_labeled.txt\", delimiter = \"\\t\")\n",
    "#training_set = tf.contrib.learn.datasets.base.load_csv_with_header(filename=\"merged_all_labeled.txt \", target_dtype=np.int,features_dtype=np.float32)\n",
    "#test_set =     tf.contrib.learn.datasets.base.load_csv(filename=\"test.csv\",  target_dtype=np.int)\n"
   ]
  },
  {
   "cell_type": "code",
   "execution_count": null,
   "metadata": {},
   "outputs": [],
   "source": []
  }
 ],
 "metadata": {
  "kernelspec": {
   "display_name": "Python 2",
   "language": "python",
   "name": "python2"
  },
  "language_info": {
   "codemirror_mode": {
    "name": "ipython",
    "version": 2
   },
   "file_extension": ".py",
   "mimetype": "text/x-python",
   "name": "python",
   "nbconvert_exporter": "python",
   "pygments_lexer": "ipython2",
   "version": "2.7.10"
  }
 },
 "nbformat": 4,
 "nbformat_minor": 2
}
