{
 "cells": [
  {
   "cell_type": "code",
   "execution_count": 1,
   "metadata": {
    "scrolled": true
   },
   "outputs": [],
   "source": [
    "import numpy\n",
    "import cPickle as pickle\n",
    "filename='testingepochs'\n",
    "with open(filename, 'rb') as fp:\n",
    "    learnloss = pickle.load(fp)\n",
    "    histories = pickle.load(fp)\n",
    "        \n"
   ]
  },
  {
   "cell_type": "code",
   "execution_count": 8,
   "metadata": {},
   "outputs": [
    {
     "name": "stdout",
     "output_type": "stream",
     "text": [
      "0.06228956228956229\n",
      "0.2335858585858586\n",
      "0.5189393939393939\n",
      "0.36195286195286197\n",
      "0.6759259259259259\n"
     ]
    }
   ],
   "source": [
    "for his in histories: \n",
    "    print(max(histories[his]['val_acc']))"
   ]
  },
  {
   "cell_type": "code",
   "execution_count": 31,
   "metadata": {},
   "outputs": [],
   "source": [
    "earningRates =  numpy.geomspace(0.01, 0.0000001, num=50)\n"
   ]
  },
  {
   "cell_type": "code",
   "execution_count": 37,
   "metadata": {
    "scrolled": true
   },
   "outputs": [],
   "source": [
    "learningRates =  numpy.geomspace(0.01, 0.000001, num=10)\n",
    "\n",
    "for lr in learningRates:\n",
    "    if lr in learnloss and lr != 0.01:\n",
    "        del learnloss[lr]\n",
    "\n",
    "        "
   ]
  },
  {
   "cell_type": "code",
   "execution_count": 41,
   "metadata": {},
   "outputs": [],
   "source": [
    "import cPickle as pickle\n",
    "filename='correctlearnloss'\n",
    "with open(filename, 'wb') as fp:\n",
    "    pickle.dump(learnloss, fp)"
   ]
  },
  {
   "cell_type": "code",
   "execution_count": 40,
   "metadata": {
    "scrolled": true
   },
   "outputs": [
    {
     "data": {
      "image/png": "[encoded data removed]",
      "text/plain": [
       "<Figure size 432x288 with 1 Axes>"
      ]
     },
     "metadata": {
      "needs_background": "light"
     },
     "output_type": "display_data"
    }
   ],
   "source": [
    "import matplotlib.pyplot as plt\n",
    "learnloss\n",
    "\n",
    "plt.title('model accuracy')\n",
    "plt.xscale('log')\n",
    "plt.ylabel('accuracy')\n",
    "plt.xlabel('learning rate')\n",
    "plt.scatter(list(learnloss.keys()),list(learnloss.values()))\n",
    "plt.gca().invert_xaxis()\n",
    "plt.show()\n",
    "\n",
    "\n"
   ]
  }
 ],
 "metadata": {
  "kernelspec": {
   "display_name": "Python 2",
   "language": "python",
   "name": "python2"
  },
  "language_info": {
   "codemirror_mode": {
    "name": "ipython",
    "version": 2
   },
   "file_extension": ".py",
   "mimetype": "text/x-python",
   "name": "python",
   "nbconvert_exporter": "python",
   "pygments_lexer": "ipython2",
   "version": "2.7.10"
  }
 },
 "nbformat": 4,
 "nbformat_minor": 2
}
